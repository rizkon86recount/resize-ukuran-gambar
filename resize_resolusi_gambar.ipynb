{
 "cells": [
  {
   "cell_type": "code",
   "execution_count": 2,
   "id": "24542da8-1844-4186-9f71-bedcaba3a575",
   "metadata": {},
   "outputs": [
    {
     "name": "stdout",
     "output_type": "stream",
     "text": [
      "Resized and saved: hasilresizepadi/1738155978053.jpg\n",
      "Resized and saved: hasilresizepadi/1738155977701.jpg\n",
      "Resized and saved: hasilresizepadi/1738155977850.jpg\n",
      "Resized and saved: hasilresizepadi/1738155977904.jpg\n",
      "Resized and saved: hasilresizepadi/1738155977724.jpg\n",
      "Resized and saved: hasilresizepadi/1738155977964.jpg\n",
      "Resized and saved: hasilresizepadi/1738155977992.jpg\n",
      "Resized and saved: hasilresizepadi/1738155978008.jpg\n",
      "Resized and saved: hasilresizepadi/1738155977822.jpg\n",
      "Resized and saved: hasilresizepadi/1738155977924.jpg\n",
      "Resized and saved: hasilresizepadi/1738155977746.jpg\n",
      "Resized and saved: hasilresizepadi/1738155977683.jpg\n",
      "Resized and saved: hasilresizepadi/1738155977663.jpg\n",
      "Resized and saved: hasilresizepadi/1738155978038.jpg\n",
      "Resized and saved: hasilresizepadi/1738155977945.jpg\n",
      "Resized and saved: hasilresizepadi/1738155978085.jpg\n",
      "Resized and saved: hasilresizepadi/1738155977794.jpg\n",
      "Resized and saved: hasilresizepadi/1738155977876.jpg\n",
      "Resized and saved: hasilresizepadi/1738155977770.jpg\n",
      "Resized and saved: hasilresizepadi/1738155978118.jpg\n",
      "Resized and saved: hasilresizepadi/1738155978070.jpg\n",
      "Resized and saved: hasilresizepadi/1738155978023.jpg\n",
      "Resized and saved: hasilresizepadi/1738155978101.jpg\n"
     ]
    }
   ],
   "source": [
    "from PIL import Image\n",
    "import os\n",
    "\n",
    "def resize_images(input_folder, output_folder, size=(227, 227)):\n",
    "    \"\"\"\n",
    "    Resize all images in the input folder to the specified size and save them in the output folder.\n",
    "\n",
    "    Args:\n",
    "        input_folder (str): Path to the folder containing the input images.\n",
    "        output_folder (str): Path to the folder to save the resized images.\n",
    "        size (tuple): Desired size for the resized images (width, height).\n",
    "    \"\"\"\n",
    "    # Create the output folder if it doesn't exist\n",
    "    if not os.path.exists(output_folder):\n",
    "        os.makedirs(output_folder)\n",
    "\n",
    "    # Loop through all files in the input folder\n",
    "    for filename in os.listdir(input_folder):\n",
    "        input_path = os.path.join(input_folder, filename)\n",
    "\n",
    "        # Skip non-image files\n",
    "        if not os.path.isfile(input_path):\n",
    "            continue\n",
    "\n",
    "        try:\n",
    "            # Open the image and resize it\n",
    "            with Image.open(input_path) as img:\n",
    "                resized_img = img.resize(size, Image.Resampling.LANCZOS)\n",
    "\n",
    "                # Save the resized image to the output folder\n",
    "                output_path = os.path.join(output_folder, filename)\n",
    "                resized_img.save(output_path)\n",
    "\n",
    "                print(f\"Resized and saved: {output_path}\")\n",
    "\n",
    "        except Exception as e:\n",
    "            print(f\"Error processing file {filename}: {e}\")\n",
    "\n",
    "if __name__ == \"__main__\":\n",
    "    # Folder paths\n",
    "    input_folder = \"Padi\" \n",
    "    output_folder = \"hasilresizepadi\"\n",
    "\n",
    "    # Call the function\n",
    "    resize_images(input_folder, output_folder)\n",
    "\n",
    "\n",
    "\n",
    "\n",
    "   "
   ]
  },
  {
   "cell_type": "code",
   "execution_count": null,
   "id": "7e6fa8dd-90bf-466f-9b3d-d83ffa135277",
   "metadata": {},
   "outputs": [],
   "source": []
  }
 ],
 "metadata": {
  "kernelspec": {
   "display_name": "Python [conda env:base] *",
   "language": "python",
   "name": "conda-base-py"
  },
  "language_info": {
   "codemirror_mode": {
    "name": "ipython",
    "version": 3
   },
   "file_extension": ".py",
   "mimetype": "text/x-python",
   "name": "python",
   "nbconvert_exporter": "python",
   "pygments_lexer": "ipython3",
   "version": "3.11.5"
  }
 },
 "nbformat": 4,
 "nbformat_minor": 5
}
